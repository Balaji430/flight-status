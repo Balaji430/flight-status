{
  "nbformat": 4,
  "nbformat_minor": 0,
  "metadata": {
    "colab": {
      "name": "Flights_delay.ipynb",
      "provenance": [],
      "collapsed_sections": [],
      "mount_file_id": "1s5KqjBquFF1l4z317NheXvkWFi06V5aJ",
      "authorship_tag": "ABX9TyPB91cQHdXyCiXVAvyy7+v0",
      "include_colab_link": true
    },
    "kernelspec": {
      "name": "python3",
      "display_name": "Python 3"
    }
  },
  "cells": [
    {
      "cell_type": "markdown",
      "metadata": {
        "id": "view-in-github",
        "colab_type": "text"
      },
      "source": [
        "<a href=\"https://colab.research.google.com/github/Balaji430/flight-status/blob/master/Flights_delay.ipynb\" target=\"_parent\"><img src=\"https://colab.research.google.com/assets/colab-badge.svg\" alt=\"Open In Colab\"/></a>"
      ]
    },
    {
      "cell_type": "code",
      "metadata": {
        "id": "2CraGhGon5LS",
        "outputId": "c729d1d1-eee7-4b33-fc80-25f36ba7bf47",
        "colab": {
          "base_uri": "https://localhost:8080/",
          "height": 166
        }
      },
      "source": [
        "import pandas.util.testing as tm\n",
        "import pandas as pd\n",
        "import numpy as np\n",
        "import matplotlib.pyplot as plt\n",
        "import seaborn as sns\n",
        "%pip install dmba\n",
        "from dmba import classificationSummary, gainsChart, liftChart"
      ],
      "execution_count": null,
      "outputs": [
        {
          "output_type": "stream",
          "text": [
            "/usr/local/lib/python3.6/dist-packages/ipykernel_launcher.py:1: FutureWarning: pandas.util.testing is deprecated. Use the functions in the public API at pandas.testing instead.\n",
            "  \"\"\"Entry point for launching an IPython kernel.\n"
          ],
          "name": "stderr"
        },
        {
          "output_type": "stream",
          "text": [
            "Collecting dmba\n",
            "  Downloading https://files.pythonhosted.org/packages/07/c9/629df19985e62c80b0b3d1d4aafaa311908335bbf2e3bf338dd56a526139/dmba-0.0.12-py3-none-any.whl\n",
            "Installing collected packages: dmba\n",
            "Successfully installed dmba-0.0.12\n",
            "no display found. Using non-interactive Agg backend\n"
          ],
          "name": "stdout"
        }
      ]
    },
    {
      "cell_type": "code",
      "metadata": {
        "id": "9qis-5oZoOok"
      },
      "source": [
        "delay = pd.read_csv('/content/drive/My Drive/DMBA/dmba/FlightDelays.csv')"
      ],
      "execution_count": null,
      "outputs": []
    },
    {
      "cell_type": "code",
      "metadata": {
        "id": "RH5l3UOEom12"
      },
      "source": [
        "delay_df = delay.copy()"
      ],
      "execution_count": null,
      "outputs": []
    },
    {
      "cell_type": "code",
      "metadata": {
        "id": "WANI-OWWor0p",
        "outputId": "1cf90e1e-11a1-44c3-d4c9-fa5c4a5b71a2",
        "colab": {
          "base_uri": "https://localhost:8080/",
          "height": 244
        }
      },
      "source": [
        "delay.head()"
      ],
      "execution_count": null,
      "outputs": [
        {
          "output_type": "execute_result",
          "data": {
            "text/html": [
              "<div>\n",
              "<style scoped>\n",
              "    .dataframe tbody tr th:only-of-type {\n",
              "        vertical-align: middle;\n",
              "    }\n",
              "\n",
              "    .dataframe tbody tr th {\n",
              "        vertical-align: top;\n",
              "    }\n",
              "\n",
              "    .dataframe thead th {\n",
              "        text-align: right;\n",
              "    }\n",
              "</style>\n",
              "<table border=\"1\" class=\"dataframe\">\n",
              "  <thead>\n",
              "    <tr style=\"text-align: right;\">\n",
              "      <th></th>\n",
              "      <th>CRS_DEP_TIME</th>\n",
              "      <th>CARRIER</th>\n",
              "      <th>DEP_TIME</th>\n",
              "      <th>DEST</th>\n",
              "      <th>DISTANCE</th>\n",
              "      <th>FL_DATE</th>\n",
              "      <th>FL_NUM</th>\n",
              "      <th>ORIGIN</th>\n",
              "      <th>Weather</th>\n",
              "      <th>DAY_WEEK</th>\n",
              "      <th>DAY_OF_MONTH</th>\n",
              "      <th>TAIL_NUM</th>\n",
              "      <th>Flight Status</th>\n",
              "    </tr>\n",
              "  </thead>\n",
              "  <tbody>\n",
              "    <tr>\n",
              "      <th>0</th>\n",
              "      <td>1455</td>\n",
              "      <td>OH</td>\n",
              "      <td>1455</td>\n",
              "      <td>JFK</td>\n",
              "      <td>184</td>\n",
              "      <td>01/01/2004</td>\n",
              "      <td>5935</td>\n",
              "      <td>BWI</td>\n",
              "      <td>0</td>\n",
              "      <td>4</td>\n",
              "      <td>1</td>\n",
              "      <td>N940CA</td>\n",
              "      <td>ontime</td>\n",
              "    </tr>\n",
              "    <tr>\n",
              "      <th>1</th>\n",
              "      <td>1640</td>\n",
              "      <td>DH</td>\n",
              "      <td>1640</td>\n",
              "      <td>JFK</td>\n",
              "      <td>213</td>\n",
              "      <td>01/01/2004</td>\n",
              "      <td>6155</td>\n",
              "      <td>DCA</td>\n",
              "      <td>0</td>\n",
              "      <td>4</td>\n",
              "      <td>1</td>\n",
              "      <td>N405FJ</td>\n",
              "      <td>ontime</td>\n",
              "    </tr>\n",
              "    <tr>\n",
              "      <th>2</th>\n",
              "      <td>1245</td>\n",
              "      <td>DH</td>\n",
              "      <td>1245</td>\n",
              "      <td>LGA</td>\n",
              "      <td>229</td>\n",
              "      <td>01/01/2004</td>\n",
              "      <td>7208</td>\n",
              "      <td>IAD</td>\n",
              "      <td>0</td>\n",
              "      <td>4</td>\n",
              "      <td>1</td>\n",
              "      <td>N695BR</td>\n",
              "      <td>ontime</td>\n",
              "    </tr>\n",
              "    <tr>\n",
              "      <th>3</th>\n",
              "      <td>1715</td>\n",
              "      <td>DH</td>\n",
              "      <td>1709</td>\n",
              "      <td>LGA</td>\n",
              "      <td>229</td>\n",
              "      <td>01/01/2004</td>\n",
              "      <td>7215</td>\n",
              "      <td>IAD</td>\n",
              "      <td>0</td>\n",
              "      <td>4</td>\n",
              "      <td>1</td>\n",
              "      <td>N662BR</td>\n",
              "      <td>ontime</td>\n",
              "    </tr>\n",
              "    <tr>\n",
              "      <th>4</th>\n",
              "      <td>1039</td>\n",
              "      <td>DH</td>\n",
              "      <td>1035</td>\n",
              "      <td>LGA</td>\n",
              "      <td>229</td>\n",
              "      <td>01/01/2004</td>\n",
              "      <td>7792</td>\n",
              "      <td>IAD</td>\n",
              "      <td>0</td>\n",
              "      <td>4</td>\n",
              "      <td>1</td>\n",
              "      <td>N698BR</td>\n",
              "      <td>ontime</td>\n",
              "    </tr>\n",
              "  </tbody>\n",
              "</table>\n",
              "</div>"
            ],
            "text/plain": [
              "   CRS_DEP_TIME CARRIER  DEP_TIME  ... DAY_OF_MONTH  TAIL_NUM Flight Status\n",
              "0          1455      OH      1455  ...            1    N940CA        ontime\n",
              "1          1640      DH      1640  ...            1    N405FJ        ontime\n",
              "2          1245      DH      1245  ...            1    N695BR        ontime\n",
              "3          1715      DH      1709  ...            1    N662BR        ontime\n",
              "4          1039      DH      1035  ...            1    N698BR        ontime\n",
              "\n",
              "[5 rows x 13 columns]"
            ]
          },
          "metadata": {
            "tags": []
          },
          "execution_count": 4
        }
      ]
    },
    {
      "cell_type": "code",
      "metadata": {
        "id": "CqNXeLLKoxkp"
      },
      "source": [
        "delay['isDelayed'] = [1 if status == 'delayed' else 0 for status in delay['Flight Status']]"
      ],
      "execution_count": null,
      "outputs": []
    },
    {
      "cell_type": "code",
      "metadata": {
        "id": "LEe7fwdJpSV5"
      },
      "source": [
        "def createGraph(group, xlabel, axis):\n",
        "    groupAverage = delay.groupby([group])['isDelayed'].mean()\n",
        "    if group == 'DAY_WEEK':\n",
        "      groupAverage = groupAverage.reindex(index=np.roll(groupAverage.index,1))\n",
        "      groupAverage.index = ['Sun', 'Mon', 'Tue', 'Wed', 'Thu','Fri', 'Sat']\n",
        "    ax = groupAverage.plot.bar(color='C0', ax=axis)\n",
        "    ax.set_ylabel('Average Delay')\n",
        "    ax.set_xlabel(xlabel)\n",
        "    return ax"
      ],
      "execution_count": null,
      "outputs": []
    },
    {
      "cell_type": "code",
      "metadata": {
        "id": "ul0-cdmJp7Ze"
      },
      "source": [
        "def graphDepartureTime(xlabel, axis):\n",
        "    temp_df = pd.DataFrame({'CRS_DEP_TIME': delay['CRS_DEP_TIME'] // 100,\n",
        "                            'isDelayed': delay['isDelayed']})\n",
        "    groupAverage = temp_df.groupby(['CRS_DEP_TIME'])['isDelayed'].mean()\n",
        "    ax = groupAverage.plot.bar(color='C0', ax=axis)\n",
        "    ax.set_xlabel(xlabel); ax.set_ylabel('Average Delay')"
      ],
      "execution_count": null,
      "outputs": []
    },
    {
      "cell_type": "code",
      "metadata": {
        "id": "KObj3N4MrBwc",
        "outputId": "9d23f282-3b75-4b31-cbfa-86e5b8289c66",
        "colab": {
          "base_uri": "https://localhost:8080/",
          "height": 729
        }
      },
      "source": [
        "fig, axes = plt.subplots(nrows=3, ncols=2, figsize=(10, 10))\n",
        "createGraph('DAY_WEEK', 'Day of week', axes[0][0])\n",
        "createGraph('DEST', 'Destination', axes[0][1])\n",
        "graphDepartureTime('Departure time', axes[1][0])\n",
        "createGraph('CARRIER', 'Carrier', axes[1][1])\n",
        "createGraph('ORIGIN', 'Origin', axes[2][0])\n",
        "createGraph('Weather', 'Weather', axes[2][1])\n",
        "plt.tight_layout()"
      ],
      "execution_count": null,
      "outputs": [
        {
          "output_type": "display_data",
          "data": {
            "image/png": "[encoded data removed]",
            "text/plain": [
              "<Figure size 720x720 with 6 Axes>"
            ]
          },
          "metadata": {
            "tags": [],
            "needs_background": "light"
          }
        }
      ]
    },
    {
      "cell_type": "code",
      "metadata": {
        "id": "3GmSV5TTrSch",
        "outputId": "e55fab24-8f36-4cde-acca-8fd47d0a10f1",
        "colab": {
          "base_uri": "https://localhost:8080/",
          "height": 389
        }
      },
      "source": [
        "agg = delay.groupby(['ORIGIN', 'DAY_WEEK','CARRIER']).isDelayed.mean()\n",
        "agg = agg.reset_index()\n",
        "# Define the layout of the graph\n",
        "height_ratios = []\n",
        "for i, origin in enumerate(sorted(delay.ORIGIN.unique())):\n",
        "    height_ratios.append(len(agg[agg.ORIGIN == origin].CARRIER.unique()))\n",
        "    gridspec_kw = {'height_ratios': height_ratios, 'width_ratios':[15, 1]}\n",
        "fig, axes = plt.subplots(nrows=3, ncols=2, figsize=(10, 6), gridspec_kw = gridspec_kw)\n",
        "axes[0, 1].axis('off')\n",
        "axes[2, 1].axis('off')\n",
        "maxIsDelay = agg.isDelayed.max()\n",
        "for i, origin in enumerate(sorted(delay.ORIGIN.unique())):\n",
        "    data = pd.pivot_table(agg[agg.ORIGIN == origin],values='isDelayed', aggfunc=np.sum,index=['CARRIER'], columns=['DAY_WEEK'])\n",
        "    data = data[[7, 1, 2, 3, 4, 5, 6]]  # Shift last columns to first\n",
        "    ax = sns.heatmap(data, ax=axes[i][0], vmin=0,vmax=maxIsDelay,cbar_ax=axes[1][1],cmap=sns.light_palette(\"navy\"))\n",
        "    ax.set_xticklabels(['Sun', 'Mon', 'Tue', 'Wed', 'Thu', 'Fri','Sat'])\n",
        "if i != 2:\n",
        "  ax.get_xaxis().set_visible(False)\n",
        "  ax.set_ylabel('Airport ' + origin)\n",
        "  plt.show()"
      ],
      "execution_count": null,
      "outputs": [
        {
          "output_type": "display_data",
          "data": {
            "image/png": "[encoded data removed]",
            "text/plain": [
              "<Figure size 720x432 with 6 Axes>"
            ]
          },
          "metadata": {
            "tags": [],
            "needs_background": "light"
          }
        }
      ]
    },
    {
      "cell_type": "code",
      "metadata": {
        "id": "liLbiyIgwduk",
        "outputId": "a3eff16c-2f97-46f6-fd00-29853001ff80",
        "colab": {
          "base_uri": "https://localhost:8080/",
          "height": 403
        }
      },
      "source": [
        "delay.info()"
      ],
      "execution_count": null,
      "outputs": [
        {
          "output_type": "stream",
          "text": [
            "<class 'pandas.core.frame.DataFrame'>\n",
            "RangeIndex: 2201 entries, 0 to 2200\n",
            "Data columns (total 14 columns):\n",
            " #   Column         Non-Null Count  Dtype \n",
            "---  ------         --------------  ----- \n",
            " 0   CRS_DEP_TIME   2201 non-null   int64 \n",
            " 1   CARRIER        2201 non-null   object\n",
            " 2   DEP_TIME       2201 non-null   int64 \n",
            " 3   DEST           2201 non-null   object\n",
            " 4   DISTANCE       2201 non-null   int64 \n",
            " 5   FL_DATE        2201 non-null   object\n",
            " 6   FL_NUM         2201 non-null   int64 \n",
            " 7   ORIGIN         2201 non-null   object\n",
            " 8   Weather        2201 non-null   int64 \n",
            " 9   DAY_WEEK       2201 non-null   int64 \n",
            " 10  DAY_OF_MONTH   2201 non-null   int64 \n",
            " 11  TAIL_NUM       2201 non-null   object\n",
            " 12  Flight Status  2201 non-null   object\n",
            " 13  isDelayed      2201 non-null   int64 \n",
            "dtypes: int64(8), object(6)\n",
            "memory usage: 240.9+ KB\n"
          ],
          "name": "stdout"
        }
      ]
    },
    {
      "cell_type": "code",
      "metadata": {
        "id": "wJYKCroYxf57",
        "outputId": "1f5435ae-e246-4c01-af28-09a54693fd73",
        "colab": {
          "base_uri": "https://localhost:8080/",
          "height": 35
        }
      },
      "source": [
        "delay['DAY_WEEK'].unique()"
      ],
      "execution_count": null,
      "outputs": [
        {
          "output_type": "execute_result",
          "data": {
            "text/plain": [
              "array([4, 5, 6, 7, 1, 2, 3])"
            ]
          },
          "metadata": {
            "tags": []
          },
          "execution_count": 14
        }
      ]
    },
    {
      "cell_type": "code",
      "metadata": {
        "id": "UpXBdatVw85T"
      },
      "source": [
        "delay['DAY_WEEK'] = delay['DAY_WEEK'].astype('category')"
      ],
      "execution_count": null,
      "outputs": []
    },
    {
      "cell_type": "code",
      "metadata": {
        "id": "G4Bm03uPxx0X"
      },
      "source": [
        "# create hourly bins departure time\n",
        "delay.CRS_DEP_TIME = [round(t / 100) for t in delay.CRS_DEP_TIME]\n",
        "delay.CRS_DEP_TIME = delay.CRS_DEP_TIME.astype('category')"
      ],
      "execution_count": null,
      "outputs": []
    },
    {
      "cell_type": "code",
      "metadata": {
        "id": "xoEO-80WzARb",
        "outputId": "e695a1a2-696a-4bd4-85e7-34f0367fe016",
        "colab": {
          "base_uri": "https://localhost:8080/",
          "height": 72
        }
      },
      "source": [
        "delay.CRS_DEP_TIME.unique()"
      ],
      "execution_count": null,
      "outputs": [
        {
          "output_type": "execute_result",
          "data": {
            "text/plain": [
              "[15, 16, 12, 17, 10, ..., 18, 13, 19, 11, 7]\n",
              "Length: 16\n",
              "Categories (16, int64): [15, 16, 12, 17, ..., 13, 19, 11, 7]"
            ]
          },
          "metadata": {
            "tags": []
          },
          "execution_count": 17
        }
      ]
    },
    {
      "cell_type": "code",
      "metadata": {
        "id": "VQ2HnkeVy13H"
      },
      "source": [
        "predictors = ['DAY_WEEK', 'CRS_DEP_TIME', 'ORIGIN', 'DEST','CARRIER', 'Weather']\n",
        "outcome = 'isDelayed'"
      ],
      "execution_count": null,
      "outputs": []
    },
    {
      "cell_type": "code",
      "metadata": {
        "id": "-NjipRtBzJU2"
      },
      "source": [
        "X = pd.get_dummies(delay[predictors], drop_first=True)\n",
        "y = delay[outcome]"
      ],
      "execution_count": null,
      "outputs": []
    },
    {
      "cell_type": "code",
      "metadata": {
        "id": "Da4EiZEzzaTq",
        "outputId": "1ca073f2-1dd6-4daf-8d95-d7570ab9f78a",
        "colab": {
          "base_uri": "https://localhost:8080/",
          "height": 226
        }
      },
      "source": [
        "X.head()"
      ],
      "execution_count": null,
      "outputs": [
        {
          "output_type": "execute_result",
          "data": {
            "text/html": [
              "<div>\n",
              "<style scoped>\n",
              "    .dataframe tbody tr th:only-of-type {\n",
              "        vertical-align: middle;\n",
              "    }\n",
              "\n",
              "    .dataframe tbody tr th {\n",
              "        vertical-align: top;\n",
              "    }\n",
              "\n",
              "    .dataframe thead th {\n",
              "        text-align: right;\n",
              "    }\n",
              "</style>\n",
              "<table border=\"1\" class=\"dataframe\">\n",
              "  <thead>\n",
              "    <tr style=\"text-align: right;\">\n",
              "      <th></th>\n",
              "      <th>Weather</th>\n",
              "      <th>DAY_WEEK_2</th>\n",
              "      <th>DAY_WEEK_3</th>\n",
              "      <th>DAY_WEEK_4</th>\n",
              "      <th>DAY_WEEK_5</th>\n",
              "      <th>DAY_WEEK_6</th>\n",
              "      <th>DAY_WEEK_7</th>\n",
              "      <th>CRS_DEP_TIME_7</th>\n",
              "      <th>CRS_DEP_TIME_8</th>\n",
              "      <th>CRS_DEP_TIME_9</th>\n",
              "      <th>CRS_DEP_TIME_10</th>\n",
              "      <th>CRS_DEP_TIME_11</th>\n",
              "      <th>CRS_DEP_TIME_12</th>\n",
              "      <th>CRS_DEP_TIME_13</th>\n",
              "      <th>CRS_DEP_TIME_14</th>\n",
              "      <th>CRS_DEP_TIME_15</th>\n",
              "      <th>CRS_DEP_TIME_16</th>\n",
              "      <th>CRS_DEP_TIME_17</th>\n",
              "      <th>CRS_DEP_TIME_18</th>\n",
              "      <th>CRS_DEP_TIME_19</th>\n",
              "      <th>CRS_DEP_TIME_20</th>\n",
              "      <th>CRS_DEP_TIME_21</th>\n",
              "      <th>ORIGIN_DCA</th>\n",
              "      <th>ORIGIN_IAD</th>\n",
              "      <th>DEST_JFK</th>\n",
              "      <th>DEST_LGA</th>\n",
              "      <th>CARRIER_DH</th>\n",
              "      <th>CARRIER_DL</th>\n",
              "      <th>CARRIER_MQ</th>\n",
              "      <th>CARRIER_OH</th>\n",
              "      <th>CARRIER_RU</th>\n",
              "      <th>CARRIER_UA</th>\n",
              "      <th>CARRIER_US</th>\n",
              "    </tr>\n",
              "  </thead>\n",
              "  <tbody>\n",
              "    <tr>\n",
              "      <th>0</th>\n",
              "      <td>0</td>\n",
              "      <td>0</td>\n",
              "      <td>0</td>\n",
              "      <td>1</td>\n",
              "      <td>0</td>\n",
              "      <td>0</td>\n",
              "      <td>0</td>\n",
              "      <td>0</td>\n",
              "      <td>0</td>\n",
              "      <td>0</td>\n",
              "      <td>0</td>\n",
              "      <td>0</td>\n",
              "      <td>0</td>\n",
              "      <td>0</td>\n",
              "      <td>0</td>\n",
              "      <td>1</td>\n",
              "      <td>0</td>\n",
              "      <td>0</td>\n",
              "      <td>0</td>\n",
              "      <td>0</td>\n",
              "      <td>0</td>\n",
              "      <td>0</td>\n",
              "      <td>0</td>\n",
              "      <td>0</td>\n",
              "      <td>1</td>\n",
              "      <td>0</td>\n",
              "      <td>0</td>\n",
              "      <td>0</td>\n",
              "      <td>0</td>\n",
              "      <td>1</td>\n",
              "      <td>0</td>\n",
              "      <td>0</td>\n",
              "      <td>0</td>\n",
              "    </tr>\n",
              "    <tr>\n",
              "      <th>1</th>\n",
              "      <td>0</td>\n",
              "      <td>0</td>\n",
              "      <td>0</td>\n",
              "      <td>1</td>\n",
              "      <td>0</td>\n",
              "      <td>0</td>\n",
              "      <td>0</td>\n",
              "      <td>0</td>\n",
              "      <td>0</td>\n",
              "      <td>0</td>\n",
              "      <td>0</td>\n",
              "      <td>0</td>\n",
              "      <td>0</td>\n",
              "      <td>0</td>\n",
              "      <td>0</td>\n",
              "      <td>0</td>\n",
              "      <td>1</td>\n",
              "      <td>0</td>\n",
              "      <td>0</td>\n",
              "      <td>0</td>\n",
              "      <td>0</td>\n",
              "      <td>0</td>\n",
              "      <td>1</td>\n",
              "      <td>0</td>\n",
              "      <td>1</td>\n",
              "      <td>0</td>\n",
              "      <td>1</td>\n",
              "      <td>0</td>\n",
              "      <td>0</td>\n",
              "      <td>0</td>\n",
              "      <td>0</td>\n",
              "      <td>0</td>\n",
              "      <td>0</td>\n",
              "    </tr>\n",
              "    <tr>\n",
              "      <th>2</th>\n",
              "      <td>0</td>\n",
              "      <td>0</td>\n",
              "      <td>0</td>\n",
              "      <td>1</td>\n",
              "      <td>0</td>\n",
              "      <td>0</td>\n",
              "      <td>0</td>\n",
              "      <td>0</td>\n",
              "      <td>0</td>\n",
              "      <td>0</td>\n",
              "      <td>0</td>\n",
              "      <td>0</td>\n",
              "      <td>1</td>\n",
              "      <td>0</td>\n",
              "      <td>0</td>\n",
              "      <td>0</td>\n",
              "      <td>0</td>\n",
              "      <td>0</td>\n",
              "      <td>0</td>\n",
              "      <td>0</td>\n",
              "      <td>0</td>\n",
              "      <td>0</td>\n",
              "      <td>0</td>\n",
              "      <td>1</td>\n",
              "      <td>0</td>\n",
              "      <td>1</td>\n",
              "      <td>1</td>\n",
              "      <td>0</td>\n",
              "      <td>0</td>\n",
              "      <td>0</td>\n",
              "      <td>0</td>\n",
              "      <td>0</td>\n",
              "      <td>0</td>\n",
              "    </tr>\n",
              "    <tr>\n",
              "      <th>3</th>\n",
              "      <td>0</td>\n",
              "      <td>0</td>\n",
              "      <td>0</td>\n",
              "      <td>1</td>\n",
              "      <td>0</td>\n",
              "      <td>0</td>\n",
              "      <td>0</td>\n",
              "      <td>0</td>\n",
              "      <td>0</td>\n",
              "      <td>0</td>\n",
              "      <td>0</td>\n",
              "      <td>0</td>\n",
              "      <td>0</td>\n",
              "      <td>0</td>\n",
              "      <td>0</td>\n",
              "      <td>0</td>\n",
              "      <td>0</td>\n",
              "      <td>1</td>\n",
              "      <td>0</td>\n",
              "      <td>0</td>\n",
              "      <td>0</td>\n",
              "      <td>0</td>\n",
              "      <td>0</td>\n",
              "      <td>1</td>\n",
              "      <td>0</td>\n",
              "      <td>1</td>\n",
              "      <td>1</td>\n",
              "      <td>0</td>\n",
              "      <td>0</td>\n",
              "      <td>0</td>\n",
              "      <td>0</td>\n",
              "      <td>0</td>\n",
              "      <td>0</td>\n",
              "    </tr>\n",
              "    <tr>\n",
              "      <th>4</th>\n",
              "      <td>0</td>\n",
              "      <td>0</td>\n",
              "      <td>0</td>\n",
              "      <td>1</td>\n",
              "      <td>0</td>\n",
              "      <td>0</td>\n",
              "      <td>0</td>\n",
              "      <td>0</td>\n",
              "      <td>0</td>\n",
              "      <td>0</td>\n",
              "      <td>1</td>\n",
              "      <td>0</td>\n",
              "      <td>0</td>\n",
              "      <td>0</td>\n",
              "      <td>0</td>\n",
              "      <td>0</td>\n",
              "      <td>0</td>\n",
              "      <td>0</td>\n",
              "      <td>0</td>\n",
              "      <td>0</td>\n",
              "      <td>0</td>\n",
              "      <td>0</td>\n",
              "      <td>0</td>\n",
              "      <td>1</td>\n",
              "      <td>0</td>\n",
              "      <td>1</td>\n",
              "      <td>1</td>\n",
              "      <td>0</td>\n",
              "      <td>0</td>\n",
              "      <td>0</td>\n",
              "      <td>0</td>\n",
              "      <td>0</td>\n",
              "      <td>0</td>\n",
              "    </tr>\n",
              "  </tbody>\n",
              "</table>\n",
              "</div>"
            ],
            "text/plain": [
              "   Weather  DAY_WEEK_2  DAY_WEEK_3  ...  CARRIER_RU  CARRIER_UA  CARRIER_US\n",
              "0        0           0           0  ...           0           0           0\n",
              "1        0           0           0  ...           0           0           0\n",
              "2        0           0           0  ...           0           0           0\n",
              "3        0           0           0  ...           0           0           0\n",
              "4        0           0           0  ...           0           0           0\n",
              "\n",
              "[5 rows x 33 columns]"
            ]
          },
          "metadata": {
            "tags": []
          },
          "execution_count": 20
        }
      ]
    },
    {
      "cell_type": "code",
      "metadata": {
        "id": "rTmOZiPEzcrQ"
      },
      "source": [
        "classes = ['ontime','delayed']"
      ],
      "execution_count": null,
      "outputs": []
    },
    {
      "cell_type": "code",
      "metadata": {
        "id": "Aa7KcRWr0pcq",
        "outputId": "f3f63da2-fe6d-4a35-87ef-dfce0e4b645a",
        "colab": {
          "base_uri": "https://localhost:8080/",
          "height": 54
        }
      },
      "source": [
        "!pip install mord\n",
        "!pip install dmba"
      ],
      "execution_count": null,
      "outputs": [
        {
          "output_type": "stream",
          "text": [
            "Requirement already satisfied: mord in /usr/local/lib/python3.6/dist-packages (0.6)\n",
            "Requirement already satisfied: dmba in /usr/local/lib/python3.6/dist-packages (0.0.12)\n"
          ],
          "name": "stdout"
        }
      ]
    },
    {
      "cell_type": "code",
      "metadata": {
        "id": "lY59o5xa5EY0"
      },
      "source": [
        "from dmba import AIC_score\n",
        "from sklearn.linear_model import LogisticRegression\n",
        "from sklearn.model_selection import train_test_split"
      ],
      "execution_count": null,
      "outputs": []
    },
    {
      "cell_type": "code",
      "metadata": {
        "id": "vP662YO1z_U3",
        "outputId": "22775a1f-0169-4b94-df7a-eb847ed0e280",
        "colab": {
          "base_uri": "https://localhost:8080/",
          "height": 54
        }
      },
      "source": [
        "# split into training and validation\n",
        "train_X, valid_X, train_y, valid_y = train_test_split(X, y, test_size=0.4, random_state=1)\n",
        "logit_full = LogisticRegression(penalty=\"l2\", C=1e42, solver='liblinear')\n",
        "logit_full.fit(train_X, train_y)\n",
        "print('intercept ', logit_full.intercept_[0])\n",
        "df_coef = pd.DataFrame({'coeff': logit_full.coef_[0]},index=X.columns)\n",
        "print('AIC', AIC_score(valid_y, logit_full.predict(valid_X),df = len(train_X.columns) + 1))"
      ],
      "execution_count": null,
      "outputs": [
        {
          "output_type": "stream",
          "text": [
            "intercept  -1.2191099739696425\n",
            "AIC 1004.5346225948085\n"
          ],
          "name": "stdout"
        }
      ]
    },
    {
      "cell_type": "code",
      "metadata": {
        "id": "zdoFpQGS5tBh",
        "outputId": "8e947256-2bef-4c15-bf17-256c8011a28d",
        "colab": {
          "base_uri": "https://localhost:8080/",
          "height": 35
        }
      },
      "source": [
        "AIC_score(valid_y, logit_full.predict(valid_X),df = len(train_X.columns) + 1)"
      ],
      "execution_count": null,
      "outputs": [
        {
          "output_type": "execute_result",
          "data": {
            "text/plain": [
              "1004.5346225948085"
            ]
          },
          "metadata": {
            "tags": []
          },
          "execution_count": 38
        }
      ]
    },
    {
      "cell_type": "code",
      "metadata": {
        "id": "9BK_SG4g6QoL",
        "outputId": "52a06b85-277a-4d89-ea7e-f8443fd3a0c6",
        "colab": {
          "base_uri": "https://localhost:8080/",
          "height": 1000
        }
      },
      "source": [
        "df_coef"
      ],
      "execution_count": null,
      "outputs": [
        {
          "output_type": "execute_result",
          "data": {
            "text/html": [
              "<div>\n",
              "<style scoped>\n",
              "    .dataframe tbody tr th:only-of-type {\n",
              "        vertical-align: middle;\n",
              "    }\n",
              "\n",
              "    .dataframe tbody tr th {\n",
              "        vertical-align: top;\n",
              "    }\n",
              "\n",
              "    .dataframe thead th {\n",
              "        text-align: right;\n",
              "    }\n",
              "</style>\n",
              "<table border=\"1\" class=\"dataframe\">\n",
              "  <thead>\n",
              "    <tr style=\"text-align: right;\">\n",
              "      <th></th>\n",
              "      <th>coeff</th>\n",
              "    </tr>\n",
              "  </thead>\n",
              "  <tbody>\n",
              "    <tr>\n",
              "      <th>Weather</th>\n",
              "      <td>9.325046</td>\n",
              "    </tr>\n",
              "    <tr>\n",
              "      <th>DAY_WEEK_2</th>\n",
              "      <td>-0.597927</td>\n",
              "    </tr>\n",
              "    <tr>\n",
              "      <th>DAY_WEEK_3</th>\n",
              "      <td>-0.704795</td>\n",
              "    </tr>\n",
              "    <tr>\n",
              "      <th>DAY_WEEK_4</th>\n",
              "      <td>-0.798677</td>\n",
              "    </tr>\n",
              "    <tr>\n",
              "      <th>DAY_WEEK_5</th>\n",
              "      <td>-0.295774</td>\n",
              "    </tr>\n",
              "    <tr>\n",
              "      <th>DAY_WEEK_6</th>\n",
              "      <td>-1.129240</td>\n",
              "    </tr>\n",
              "    <tr>\n",
              "      <th>DAY_WEEK_7</th>\n",
              "      <td>-0.135377</td>\n",
              "    </tr>\n",
              "    <tr>\n",
              "      <th>CRS_DEP_TIME_7</th>\n",
              "      <td>0.631495</td>\n",
              "    </tr>\n",
              "    <tr>\n",
              "      <th>CRS_DEP_TIME_8</th>\n",
              "      <td>0.382266</td>\n",
              "    </tr>\n",
              "    <tr>\n",
              "      <th>CRS_DEP_TIME_9</th>\n",
              "      <td>-0.365022</td>\n",
              "    </tr>\n",
              "    <tr>\n",
              "      <th>CRS_DEP_TIME_10</th>\n",
              "      <td>0.337041</td>\n",
              "    </tr>\n",
              "    <tr>\n",
              "      <th>CRS_DEP_TIME_11</th>\n",
              "      <td>0.078445</td>\n",
              "    </tr>\n",
              "    <tr>\n",
              "      <th>CRS_DEP_TIME_12</th>\n",
              "      <td>0.398856</td>\n",
              "    </tr>\n",
              "    <tr>\n",
              "      <th>CRS_DEP_TIME_13</th>\n",
              "      <td>0.174967</td>\n",
              "    </tr>\n",
              "    <tr>\n",
              "      <th>CRS_DEP_TIME_14</th>\n",
              "      <td>0.201518</td>\n",
              "    </tr>\n",
              "    <tr>\n",
              "      <th>CRS_DEP_TIME_15</th>\n",
              "      <td>1.264687</td>\n",
              "    </tr>\n",
              "    <tr>\n",
              "      <th>CRS_DEP_TIME_16</th>\n",
              "      <td>0.628069</td>\n",
              "    </tr>\n",
              "    <tr>\n",
              "      <th>CRS_DEP_TIME_17</th>\n",
              "      <td>1.092791</td>\n",
              "    </tr>\n",
              "    <tr>\n",
              "      <th>CRS_DEP_TIME_18</th>\n",
              "      <td>0.285384</td>\n",
              "    </tr>\n",
              "    <tr>\n",
              "      <th>CRS_DEP_TIME_19</th>\n",
              "      <td>1.655407</td>\n",
              "    </tr>\n",
              "    <tr>\n",
              "      <th>CRS_DEP_TIME_20</th>\n",
              "      <td>1.023214</td>\n",
              "    </tr>\n",
              "    <tr>\n",
              "      <th>CRS_DEP_TIME_21</th>\n",
              "      <td>1.076531</td>\n",
              "    </tr>\n",
              "    <tr>\n",
              "      <th>ORIGIN_DCA</th>\n",
              "      <td>-0.009571</td>\n",
              "    </tr>\n",
              "    <tr>\n",
              "      <th>ORIGIN_IAD</th>\n",
              "      <td>-0.134053</td>\n",
              "    </tr>\n",
              "    <tr>\n",
              "      <th>DEST_JFK</th>\n",
              "      <td>-0.523641</td>\n",
              "    </tr>\n",
              "    <tr>\n",
              "      <th>DEST_LGA</th>\n",
              "      <td>-0.545664</td>\n",
              "    </tr>\n",
              "    <tr>\n",
              "      <th>CARRIER_DH</th>\n",
              "      <td>0.352304</td>\n",
              "    </tr>\n",
              "    <tr>\n",
              "      <th>CARRIER_DL</th>\n",
              "      <td>-0.684515</td>\n",
              "    </tr>\n",
              "    <tr>\n",
              "      <th>CARRIER_MQ</th>\n",
              "      <td>0.743164</td>\n",
              "    </tr>\n",
              "    <tr>\n",
              "      <th>CARRIER_OH</th>\n",
              "      <td>-0.710514</td>\n",
              "    </tr>\n",
              "    <tr>\n",
              "      <th>CARRIER_RU</th>\n",
              "      <td>-0.194206</td>\n",
              "    </tr>\n",
              "    <tr>\n",
              "      <th>CARRIER_UA</th>\n",
              "      <td>0.315420</td>\n",
              "    </tr>\n",
              "    <tr>\n",
              "      <th>CARRIER_US</th>\n",
              "      <td>-0.971425</td>\n",
              "    </tr>\n",
              "  </tbody>\n",
              "</table>\n",
              "</div>"
            ],
            "text/plain": [
              "                    coeff\n",
              "Weather          9.325046\n",
              "DAY_WEEK_2      -0.597927\n",
              "DAY_WEEK_3      -0.704795\n",
              "DAY_WEEK_4      -0.798677\n",
              "DAY_WEEK_5      -0.295774\n",
              "DAY_WEEK_6      -1.129240\n",
              "DAY_WEEK_7      -0.135377\n",
              "CRS_DEP_TIME_7   0.631495\n",
              "CRS_DEP_TIME_8   0.382266\n",
              "CRS_DEP_TIME_9  -0.365022\n",
              "CRS_DEP_TIME_10  0.337041\n",
              "CRS_DEP_TIME_11  0.078445\n",
              "CRS_DEP_TIME_12  0.398856\n",
              "CRS_DEP_TIME_13  0.174967\n",
              "CRS_DEP_TIME_14  0.201518\n",
              "CRS_DEP_TIME_15  1.264687\n",
              "CRS_DEP_TIME_16  0.628069\n",
              "CRS_DEP_TIME_17  1.092791\n",
              "CRS_DEP_TIME_18  0.285384\n",
              "CRS_DEP_TIME_19  1.655407\n",
              "CRS_DEP_TIME_20  1.023214\n",
              "CRS_DEP_TIME_21  1.076531\n",
              "ORIGIN_DCA      -0.009571\n",
              "ORIGIN_IAD      -0.134053\n",
              "DEST_JFK        -0.523641\n",
              "DEST_LGA        -0.545664\n",
              "CARRIER_DH       0.352304\n",
              "CARRIER_DL      -0.684515\n",
              "CARRIER_MQ       0.743164\n",
              "CARRIER_OH      -0.710514\n",
              "CARRIER_RU      -0.194206\n",
              "CARRIER_UA       0.315420\n",
              "CARRIER_US      -0.971425"
            ]
          },
          "metadata": {
            "tags": []
          },
          "execution_count": 39
        }
      ]
    },
    {
      "cell_type": "code",
      "metadata": {
        "id": "kDdKXnTm6qir",
        "outputId": "b805300e-8887-4823-a620-6ab383b7f581",
        "colab": {
          "base_uri": "https://localhost:8080/",
          "height": 447
        }
      },
      "source": [
        "logit_reg_pred = logit_full.predict_proba(valid_X)\n",
        "full_result = pd.DataFrame({'actual': valid_y,\n",
        "                            'p(0)': [p[0] for p in logit_reg_pred],\n",
        "                            'p(1)': [p[1] for p in logit_reg_pred],\n",
        "                            'predicted':logit_full.predict(valid_X)})\n",
        "full_result = full_result.sort_values(by=['p(1)'],ascending=False)\n",
        "# confusion matrix\n",
        "classificationSummary(full_result.actual, full_result.predicted,class_names=classes)\n",
        "gainsChart(full_result.actual, figsize=[5, 5])\n",
        "plt.show()"
      ],
      "execution_count": null,
      "outputs": [
        {
          "output_type": "stream",
          "text": [
            "Confusion Matrix (Accuracy 0.8309)\n",
            "\n",
            "        Prediction\n",
            " Actual  ontime delayed\n",
            " ontime     705       9\n",
            "delayed     140      27\n"
          ],
          "name": "stdout"
        },
        {
          "output_type": "display_data",
          "data": {
            "image/png": "[encoded data removed]",
            "text/plain": [
              "<Figure size 360x360 with 1 Axes>"
            ]
          },
          "metadata": {
            "tags": [],
            "needs_background": "light"
          }
        }
      ]
    },
    {
      "cell_type": "code",
      "metadata": {
        "id": "O1Um5_qX7oZ2",
        "outputId": "c996b454-8308-4060-eaf8-188195c7e2d5",
        "colab": {
          "base_uri": "https://localhost:8080/",
          "height": 424
        }
      },
      "source": [
        "full_result"
      ],
      "execution_count": null,
      "outputs": [
        {
          "output_type": "execute_result",
          "data": {
            "text/html": [
              "<div>\n",
              "<style scoped>\n",
              "    .dataframe tbody tr th:only-of-type {\n",
              "        vertical-align: middle;\n",
              "    }\n",
              "\n",
              "    .dataframe tbody tr th {\n",
              "        vertical-align: top;\n",
              "    }\n",
              "\n",
              "    .dataframe thead th {\n",
              "        text-align: right;\n",
              "    }\n",
              "</style>\n",
              "<table border=\"1\" class=\"dataframe\">\n",
              "  <thead>\n",
              "    <tr style=\"text-align: right;\">\n",
              "      <th></th>\n",
              "      <th>actual</th>\n",
              "      <th>p(0)</th>\n",
              "      <th>p(1)</th>\n",
              "      <th>predicted</th>\n",
              "    </tr>\n",
              "  </thead>\n",
              "  <tbody>\n",
              "    <tr>\n",
              "      <th>1827</th>\n",
              "      <td>1</td>\n",
              "      <td>0.000069</td>\n",
              "      <td>0.999931</td>\n",
              "      <td>1</td>\n",
              "    </tr>\n",
              "    <tr>\n",
              "      <th>1864</th>\n",
              "      <td>1</td>\n",
              "      <td>0.000104</td>\n",
              "      <td>0.999896</td>\n",
              "      <td>1</td>\n",
              "    </tr>\n",
              "    <tr>\n",
              "      <th>1910</th>\n",
              "      <td>1</td>\n",
              "      <td>0.000148</td>\n",
              "      <td>0.999852</td>\n",
              "      <td>1</td>\n",
              "    </tr>\n",
              "    <tr>\n",
              "      <th>1744</th>\n",
              "      <td>1</td>\n",
              "      <td>0.000160</td>\n",
              "      <td>0.999840</td>\n",
              "      <td>1</td>\n",
              "    </tr>\n",
              "    <tr>\n",
              "      <th>1849</th>\n",
              "      <td>1</td>\n",
              "      <td>0.000162</td>\n",
              "      <td>0.999838</td>\n",
              "      <td>1</td>\n",
              "    </tr>\n",
              "    <tr>\n",
              "      <th>...</th>\n",
              "      <td>...</td>\n",
              "      <td>...</td>\n",
              "      <td>...</td>\n",
              "      <td>...</td>\n",
              "    </tr>\n",
              "    <tr>\n",
              "      <th>351</th>\n",
              "      <td>0</td>\n",
              "      <td>0.976077</td>\n",
              "      <td>0.023923</td>\n",
              "      <td>0</td>\n",
              "    </tr>\n",
              "    <tr>\n",
              "      <th>669</th>\n",
              "      <td>0</td>\n",
              "      <td>0.978045</td>\n",
              "      <td>0.021955</td>\n",
              "      <td>0</td>\n",
              "    </tr>\n",
              "    <tr>\n",
              "      <th>140</th>\n",
              "      <td>0</td>\n",
              "      <td>0.978045</td>\n",
              "      <td>0.021955</td>\n",
              "      <td>0</td>\n",
              "    </tr>\n",
              "    <tr>\n",
              "      <th>434</th>\n",
              "      <td>0</td>\n",
              "      <td>0.978450</td>\n",
              "      <td>0.021550</td>\n",
              "      <td>0</td>\n",
              "    </tr>\n",
              "    <tr>\n",
              "      <th>1051</th>\n",
              "      <td>1</td>\n",
              "      <td>0.980343</td>\n",
              "      <td>0.019657</td>\n",
              "      <td>0</td>\n",
              "    </tr>\n",
              "  </tbody>\n",
              "</table>\n",
              "<p>881 rows × 4 columns</p>\n",
              "</div>"
            ],
            "text/plain": [
              "      actual      p(0)      p(1)  predicted\n",
              "1827       1  0.000069  0.999931          1\n",
              "1864       1  0.000104  0.999896          1\n",
              "1910       1  0.000148  0.999852          1\n",
              "1744       1  0.000160  0.999840          1\n",
              "1849       1  0.000162  0.999838          1\n",
              "...      ...       ...       ...        ...\n",
              "351        0  0.976077  0.023923          0\n",
              "669        0  0.978045  0.021955          0\n",
              "140        0  0.978045  0.021955          0\n",
              "434        0  0.978450  0.021550          0\n",
              "1051       1  0.980343  0.019657          0\n",
              "\n",
              "[881 rows x 4 columns]"
            ]
          },
          "metadata": {
            "tags": []
          },
          "execution_count": 41
        }
      ]
    },
    {
      "cell_type": "code",
      "metadata": {
        "id": "i1gxMvAG71uH"
      },
      "source": [
        "delays_red_df = pd.DataFrame({\n",
        "    'Sun_Mon' : [1 if d in (1, 7) else 0 for d in delay.DAY_WEEK],\n",
        "    'Weather' : delay.Weather,\n",
        "    'CARRIER_CO_MQ_DH_RU' : [1 if d in (\"CO\", \"MQ\", \"DH\",\"RU\") else 0 for d in delay.CARRIER],\n",
        "    'MORNING' : [1 if d in (6, 7, 8, 9) else 0 for d in delay.CRS_DEP_TIME],\n",
        "    'NOON' : [1 if d in (10, 11, 12, 13) else 0 for d in delay.CRS_DEP_TIME],\n",
        "    'AFTER2P' : [1 if d in (14, 15, 16, 17, 18) else 0 for d in delay.CRS_DEP_TIME],\n",
        "    'EVENING' : [1 if d in (19, 20) else 0 for d in delay.CRS_DEP_TIME],\n",
        "    'isDelayed' : [1 if status == 'delayed' else 0 for status in delay['Flight Status']],\n",
        "})"
      ],
      "execution_count": null,
      "outputs": []
    },
    {
      "cell_type": "code",
      "metadata": {
        "id": "rs2mOPf4_i-a",
        "outputId": "7510d751-ceec-4de4-814a-db50bb6c1ecf",
        "colab": {
          "base_uri": "https://localhost:8080/",
          "height": 424
        }
      },
      "source": [
        "delays_red_df"
      ],
      "execution_count": null,
      "outputs": [
        {
          "output_type": "execute_result",
          "data": {
            "text/html": [
              "<div>\n",
              "<style scoped>\n",
              "    .dataframe tbody tr th:only-of-type {\n",
              "        vertical-align: middle;\n",
              "    }\n",
              "\n",
              "    .dataframe tbody tr th {\n",
              "        vertical-align: top;\n",
              "    }\n",
              "\n",
              "    .dataframe thead th {\n",
              "        text-align: right;\n",
              "    }\n",
              "</style>\n",
              "<table border=\"1\" class=\"dataframe\">\n",
              "  <thead>\n",
              "    <tr style=\"text-align: right;\">\n",
              "      <th></th>\n",
              "      <th>Sun_Mon</th>\n",
              "      <th>Weather</th>\n",
              "      <th>CARRIER_CO_MQ_DH_RU</th>\n",
              "      <th>MORNING</th>\n",
              "      <th>NOON</th>\n",
              "      <th>AFTER2P</th>\n",
              "      <th>EVENING</th>\n",
              "      <th>isDelayed</th>\n",
              "    </tr>\n",
              "  </thead>\n",
              "  <tbody>\n",
              "    <tr>\n",
              "      <th>0</th>\n",
              "      <td>0</td>\n",
              "      <td>0</td>\n",
              "      <td>0</td>\n",
              "      <td>0</td>\n",
              "      <td>0</td>\n",
              "      <td>1</td>\n",
              "      <td>0</td>\n",
              "      <td>0</td>\n",
              "    </tr>\n",
              "    <tr>\n",
              "      <th>1</th>\n",
              "      <td>0</td>\n",
              "      <td>0</td>\n",
              "      <td>1</td>\n",
              "      <td>0</td>\n",
              "      <td>0</td>\n",
              "      <td>1</td>\n",
              "      <td>0</td>\n",
              "      <td>0</td>\n",
              "    </tr>\n",
              "    <tr>\n",
              "      <th>2</th>\n",
              "      <td>0</td>\n",
              "      <td>0</td>\n",
              "      <td>1</td>\n",
              "      <td>0</td>\n",
              "      <td>1</td>\n",
              "      <td>0</td>\n",
              "      <td>0</td>\n",
              "      <td>0</td>\n",
              "    </tr>\n",
              "    <tr>\n",
              "      <th>3</th>\n",
              "      <td>0</td>\n",
              "      <td>0</td>\n",
              "      <td>1</td>\n",
              "      <td>0</td>\n",
              "      <td>0</td>\n",
              "      <td>1</td>\n",
              "      <td>0</td>\n",
              "      <td>0</td>\n",
              "    </tr>\n",
              "    <tr>\n",
              "      <th>4</th>\n",
              "      <td>0</td>\n",
              "      <td>0</td>\n",
              "      <td>1</td>\n",
              "      <td>0</td>\n",
              "      <td>1</td>\n",
              "      <td>0</td>\n",
              "      <td>0</td>\n",
              "      <td>0</td>\n",
              "    </tr>\n",
              "    <tr>\n",
              "      <th>...</th>\n",
              "      <td>...</td>\n",
              "      <td>...</td>\n",
              "      <td>...</td>\n",
              "      <td>...</td>\n",
              "      <td>...</td>\n",
              "      <td>...</td>\n",
              "      <td>...</td>\n",
              "      <td>...</td>\n",
              "    </tr>\n",
              "    <tr>\n",
              "      <th>2196</th>\n",
              "      <td>0</td>\n",
              "      <td>0</td>\n",
              "      <td>1</td>\n",
              "      <td>1</td>\n",
              "      <td>0</td>\n",
              "      <td>0</td>\n",
              "      <td>0</td>\n",
              "      <td>0</td>\n",
              "    </tr>\n",
              "    <tr>\n",
              "      <th>2197</th>\n",
              "      <td>0</td>\n",
              "      <td>0</td>\n",
              "      <td>1</td>\n",
              "      <td>0</td>\n",
              "      <td>0</td>\n",
              "      <td>1</td>\n",
              "      <td>0</td>\n",
              "      <td>0</td>\n",
              "    </tr>\n",
              "    <tr>\n",
              "      <th>2198</th>\n",
              "      <td>0</td>\n",
              "      <td>0</td>\n",
              "      <td>1</td>\n",
              "      <td>0</td>\n",
              "      <td>0</td>\n",
              "      <td>1</td>\n",
              "      <td>0</td>\n",
              "      <td>0</td>\n",
              "    </tr>\n",
              "    <tr>\n",
              "      <th>2199</th>\n",
              "      <td>0</td>\n",
              "      <td>0</td>\n",
              "      <td>1</td>\n",
              "      <td>0</td>\n",
              "      <td>0</td>\n",
              "      <td>1</td>\n",
              "      <td>0</td>\n",
              "      <td>0</td>\n",
              "    </tr>\n",
              "    <tr>\n",
              "      <th>2200</th>\n",
              "      <td>0</td>\n",
              "      <td>0</td>\n",
              "      <td>1</td>\n",
              "      <td>0</td>\n",
              "      <td>0</td>\n",
              "      <td>1</td>\n",
              "      <td>0</td>\n",
              "      <td>0</td>\n",
              "    </tr>\n",
              "  </tbody>\n",
              "</table>\n",
              "<p>2201 rows × 8 columns</p>\n",
              "</div>"
            ],
            "text/plain": [
              "      Sun_Mon  Weather  CARRIER_CO_MQ_DH_RU  ...  AFTER2P  EVENING  isDelayed\n",
              "0           0        0                    0  ...        1        0          0\n",
              "1           0        0                    1  ...        1        0          0\n",
              "2           0        0                    1  ...        0        0          0\n",
              "3           0        0                    1  ...        1        0          0\n",
              "4           0        0                    1  ...        0        0          0\n",
              "...       ...      ...                  ...  ...      ...      ...        ...\n",
              "2196        0        0                    1  ...        0        0          0\n",
              "2197        0        0                    1  ...        1        0          0\n",
              "2198        0        0                    1  ...        1        0          0\n",
              "2199        0        0                    1  ...        1        0          0\n",
              "2200        0        0                    1  ...        1        0          0\n",
              "\n",
              "[2201 rows x 8 columns]"
            ]
          },
          "metadata": {
            "tags": []
          },
          "execution_count": 43
        }
      ]
    },
    {
      "cell_type": "code",
      "metadata": {
        "id": "WfgZyBEAL11C"
      },
      "source": [
        "X_red = delays_red_df.drop(columns=['isDelayed'])\n",
        "y_red = delays_red_df['isDelayed']\n",
        "train_X_red, valid_X_red, train_y_red, valid_y_red = train_test_split(X_red, y_red, test_size=0.4,random_state=1)\n",
        "from sklearn.linear_model import LogisticRegressionCV"
      ],
      "execution_count": null,
      "outputs": []
    },
    {
      "cell_type": "code",
      "metadata": {
        "id": "kjzfJ1_i_lfS",
        "outputId": "872385e2-7941-4b1a-99f9-801a57b0f4d4",
        "colab": {
          "base_uri": "https://localhost:8080/",
          "height": 164
        }
      },
      "source": [
        "logit_red = LogisticRegressionCV(penalty=\"l1\",solver='liblinear', cv=5)\n",
        "logit_red.fit(train_X_red, train_y_red)\n",
        "print('intercept ', logit_red.intercept_[0])\n",
        "df_red = pd.DataFrame({'coeff': logit_red.coef_[0]},index=X_red.columns)\n",
        "print('AIC', AIC_score(valid_y_red, logit_red.predict(valid_X_red),df=len(train_X_red.columns) + 1))\n",
        "# confusion matrix\n",
        "classificationSummary(valid_y_red, logit_red.predict(valid_X_red),class_names=classes)"
      ],
      "execution_count": null,
      "outputs": [
        {
          "output_type": "stream",
          "text": [
            "intercept  -2.2873550327189394\n",
            "AIC 934.6153607819033\n",
            "Confusion Matrix (Accuracy 0.8343)\n",
            "\n",
            "        Prediction\n",
            " Actual  ontime delayed\n",
            " ontime     711       3\n",
            "delayed     143      24\n"
          ],
          "name": "stdout"
        }
      ]
    },
    {
      "cell_type": "code",
      "metadata": {
        "id": "47Q_TrA8NdOh",
        "outputId": "f2842b37-7c30-4ce8-ac79-4cd800af36b3",
        "colab": {
          "base_uri": "https://localhost:8080/",
          "height": 269
        }
      },
      "source": [
        "df_red"
      ],
      "execution_count": null,
      "outputs": [
        {
          "output_type": "execute_result",
          "data": {
            "text/html": [
              "<div>\n",
              "<style scoped>\n",
              "    .dataframe tbody tr th:only-of-type {\n",
              "        vertical-align: middle;\n",
              "    }\n",
              "\n",
              "    .dataframe tbody tr th {\n",
              "        vertical-align: top;\n",
              "    }\n",
              "\n",
              "    .dataframe thead th {\n",
              "        text-align: right;\n",
              "    }\n",
              "</style>\n",
              "<table border=\"1\" class=\"dataframe\">\n",
              "  <thead>\n",
              "    <tr style=\"text-align: right;\">\n",
              "      <th></th>\n",
              "      <th>coeff</th>\n",
              "    </tr>\n",
              "  </thead>\n",
              "  <tbody>\n",
              "    <tr>\n",
              "      <th>Sun_Mon</th>\n",
              "      <td>0.577943</td>\n",
              "    </tr>\n",
              "    <tr>\n",
              "      <th>Weather</th>\n",
              "      <td>4.977939</td>\n",
              "    </tr>\n",
              "    <tr>\n",
              "      <th>CARRIER_CO_MQ_DH_RU</th>\n",
              "      <td>1.298833</td>\n",
              "    </tr>\n",
              "    <tr>\n",
              "      <th>MORNING</th>\n",
              "      <td>-0.583277</td>\n",
              "    </tr>\n",
              "    <tr>\n",
              "      <th>NOON</th>\n",
              "      <td>-0.665906</td>\n",
              "    </tr>\n",
              "    <tr>\n",
              "      <th>AFTER2P</th>\n",
              "      <td>-0.055211</td>\n",
              "    </tr>\n",
              "    <tr>\n",
              "      <th>EVENING</th>\n",
              "      <td>0.560828</td>\n",
              "    </tr>\n",
              "  </tbody>\n",
              "</table>\n",
              "</div>"
            ],
            "text/plain": [
              "                        coeff\n",
              "Sun_Mon              0.577943\n",
              "Weather              4.977939\n",
              "CARRIER_CO_MQ_DH_RU  1.298833\n",
              "MORNING             -0.583277\n",
              "NOON                -0.665906\n",
              "AFTER2P             -0.055211\n",
              "EVENING              0.560828"
            ]
          },
          "metadata": {
            "tags": []
          },
          "execution_count": 47
        }
      ]
    },
    {
      "cell_type": "code",
      "metadata": {
        "id": "gdSPe9HJNj0S",
        "outputId": "195a40b4-f254-48b5-e324-9d3c2cfa432e",
        "colab": {
          "base_uri": "https://localhost:8080/",
          "height": 355
        }
      },
      "source": [
        "logit_reg_proba = logit_red.predict_proba(valid_X_red)\n",
        "red_result = pd.DataFrame({'actual': valid_y_red,\n",
        "                            'p(0)': [p[0] for p in logit_reg_proba],\n",
        "                            'p(1)': [p[1] for p in logit_reg_proba],\n",
        "                            'predicted': logit_red.predict(valid_X_red),\n",
        "                          })\n",
        "red_result = red_result.sort_values(by=['p(1)'], ascending=False)\n",
        "ax = gainsChart(full_result.actual, color='C1', figsize=[5, 5])\n",
        "gainsChart(red_result.actual, color='C0', ax=ax)"
      ],
      "execution_count": null,
      "outputs": [
        {
          "output_type": "execute_result",
          "data": {
            "text/plain": [
              "<matplotlib.axes._subplots.AxesSubplot at 0x7f9ded151240>"
            ]
          },
          "metadata": {
            "tags": []
          },
          "execution_count": 48
        },
        {
          "output_type": "display_data",
          "data": {
            "image/png": "[encoded data removed]",
            "text/plain": [
              "<Figure size 360x360 with 1 Axes>"
            ]
          },
          "metadata": {
            "tags": [],
            "needs_background": "light"
          }
        }
      ]
    },
    {
      "cell_type": "code",
      "metadata": {
        "id": "n26NVmx5Ob3V"
      },
      "source": [
        ""
      ],
      "execution_count": null,
      "outputs": []
    }
  ]
}